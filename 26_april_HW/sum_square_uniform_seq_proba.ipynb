{
 "cells": [
  {
   "cell_type": "markdown",
   "metadata": {},
   "source": [
    "# Задание\n",
    "Сделать компьютерную модель случайной величины, являющейся суммой квадратов двух независимых, равномерно распределённых на отрезке $[-1, +1]$ случайных величин (кто ещё не сделал). \n",
    "Определить опытным путём с точностью до третьего знака вероятность попадания в промежуток $[1.25, 1.5]$ этой случайной величины."
   ]
  },
  {
   "cell_type": "code",
   "execution_count": 1,
   "metadata": {
    "collapsed": true
   },
   "outputs": [],
   "source": [
    "%matplotlib inline\n",
    "import numpy as np\n",
    "from matplotlib import pyplot as plt"
   ]
  },
  {
   "cell_type": "code",
   "execution_count": 2,
   "metadata": {
    "collapsed": true
   },
   "outputs": [],
   "source": [
    "sample_size = 10000\n",
    "interval = {'low' : 1.25, 'high' : 1.5}\n",
    "\n",
    "def sum_square_uniform_seq(sample_size):\n",
    "    first_seq = np.random.uniform(-1, 1, size = sample_size) ** 2\n",
    "    second_seq = np.random.uniform(-1, 1, size = sample_size) ** 2\n",
    "    return first_seq + second_seq\n",
    "\n",
    "sum_seq = sum_square_uniform_seq(sample_size)"
   ]
  },
  {
   "cell_type": "code",
   "execution_count": 3,
   "metadata": {},
   "outputs": [
    {
     "data": {
      "image/png": "[encoded data removed]",
      "text/plain": [
       "<matplotlib.figure.Figure at 0x1b6e6a44048>"
      ]
     },
     "metadata": {},
     "output_type": "display_data"
    }
   ],
   "source": [
    "plt.hist(sum_seq, normed=True, bins=sample_size // 10);"
   ]
  },
  {
   "cell_type": "code",
   "execution_count": 4,
   "metadata": {},
   "outputs": [
    {
     "name": "stdout",
     "output_type": "stream",
     "text": [
      "sample size:           10\n",
      "estimated probability: 0.1\n",
      "sample size:           100\n",
      "estimated probability: 0.07\n",
      "estimations difference : 0.03\n",
      "\n",
      "sample size:           1000\n",
      "estimated probability: 0.068\n",
      "estimations difference : 0.0020000000000000018\n",
      "\n",
      "sample size:           10000\n",
      "estimated probability: 0.0608\n",
      "estimations difference : 0.007200000000000005\n",
      "\n",
      "sample size:           100000\n",
      "estimated probability: 0.06039\n",
      "estimations difference : 0.00041000000000000064\n",
      "\n",
      "sample size:           1000000\n",
      "estimated probability: 0.059838\n",
      "estimations difference : 0.0005519999999999969\n",
      "\n",
      "sample size:           10000000\n",
      "estimated probability: 0.0599072\n",
      "estimations difference : 6.919999999999843e-05\n",
      "\n",
      "Wall time: 543 ms\n"
     ]
    }
   ],
   "source": [
    "%%time\n",
    "convergence_list = []\n",
    "for sample_size in [10** x for x in range(1, 8)] :\n",
    "    sum_seq = sum_square_uniform_seq(sample_size)\n",
    "    est_proba = np.count_nonzero((sum_seq >= interval['low']) & (sum_seq <= interval['high'])) / sample_size\n",
    "    convergence_list.append(est_proba)\n",
    "    print('sample size:           {}'.format(sample_size))\n",
    "    print('estimated probability: {}'.format(est_proba))\n",
    "    if len(convergence_list) >= 2:\n",
    "        print('estimations difference : {}\\n'.format(np.abs(convergence_list[-1] - convergence_list[-2])))\n",
    "    "
   ]
  },
  {
   "cell_type": "code",
   "execution_count": 5,
   "metadata": {},
   "outputs": [
    {
     "data": {
      "image/png": "[encoded data removed]",
      "text/plain": [
       "<matplotlib.figure.Figure at 0x1b6e6bea5c0>"
      ]
     },
     "metadata": {},
     "output_type": "display_data"
    }
   ],
   "source": [
    "plt.plot(convergence_list);"
   ]
  },
  {
   "cell_type": "markdown",
   "metadata": {},
   "source": [
    "Таким образом, вероятность попадания в промежуток [1.25, 1.5] приблизительно равна 0.0599."
   ]
  }
 ],
 "metadata": {
  "kernelspec": {
   "display_name": "Python 3",
   "language": "python",
   "name": "python3"
  },
  "language_info": {
   "codemirror_mode": {
    "name": "ipython",
    "version": 3
   },
   "file_extension": ".py",
   "mimetype": "text/x-python",
   "name": "python",
   "nbconvert_exporter": "python",
   "pygments_lexer": "ipython3",
   "version": "3.6.1"
  }
 },
 "nbformat": 4,
 "nbformat_minor": 2
}
