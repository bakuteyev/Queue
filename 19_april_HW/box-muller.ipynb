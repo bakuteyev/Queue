{
 "cells": [
  {
   "cell_type": "code",
   "execution_count": 1,
   "metadata": {
    "collapsed": true
   },
   "outputs": [],
   "source": [
    "%matplotlib inline\n",
    "import numpy as np\n",
    "from matplotlib import pyplot as plt"
   ]
  },
  {
   "cell_type": "markdown",
   "metadata": {},
   "source": [
    "Пусть $r$ и $\\varphi$ — случайные величины, равномерно распределённые на интервале $(0,\\;1]$.\n",
    "Вычислим $z_0$ и $z_1$ по формулам\n",
    "\n",
    " $$z_0 = \\cos (2 \\pi \\varphi) \\sqrt {-2 \\ln r},$$\n",
    " $$z_1 = \\sin (2 \\pi \\varphi) \\sqrt {-2 \\ln r}.$$\n",
    "\n",
    "Тогда $z_0$ и $z_1$ будут независимы и распределены нормально с математическим ожиданием 0 и дисперсией 1.\n"
   ]
  },
  {
   "cell_type": "code",
   "execution_count": 2,
   "metadata": {
    "collapsed": true
   },
   "outputs": [],
   "source": [
    "n_samples = 10000\n",
    "r = 1 - np.random.uniform(0, 1, n_samples) #исключаем 0, включаем 1\n",
    "phi = 1 -  np.random.uniform(0, 1, n_samples)"
   ]
  },
  {
   "cell_type": "code",
   "execution_count": 3,
   "metadata": {
    "collapsed": true
   },
   "outputs": [],
   "source": [
    "z_0 = np.cos(2*np.pi*phi)*np.sqrt(-2 * np.log(r))"
   ]
  },
  {
   "cell_type": "code",
   "execution_count": 4,
   "metadata": {
    "collapsed": false
   },
   "outputs": [
    {
     "data": {
      "image/png": "[encoded data removed]",
      "text/plain": [
       "<matplotlib.figure.Figure at 0x1753e586a90>"
      ]
     },
     "metadata": {},
     "output_type": "display_data"
    }
   ],
   "source": [
    "plt.hist(z_0, bins=300);"
   ]
  }
 ],
 "metadata": {
  "kernelspec": {
   "display_name": "Python 3",
   "language": "python",
   "name": "python3"
  },
  "language_info": {
   "codemirror_mode": {
    "name": "ipython",
    "version": 3
   },
   "file_extension": ".py",
   "mimetype": "text/x-python",
   "name": "python",
   "nbconvert_exporter": "python",
   "pygments_lexer": "ipython3",
   "version": "3.6.0"
  }
 },
 "nbformat": 4,
 "nbformat_minor": 2
}
